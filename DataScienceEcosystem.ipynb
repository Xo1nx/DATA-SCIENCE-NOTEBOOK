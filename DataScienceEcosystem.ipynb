{
 "cells": [
  {
   "cell_type": "markdown",
   "id": "39f96a83-8e0d-46a1-9d27-9e8cc99a3b2c",
   "metadata": {},
   "source": [
    "DATA SCIENCE TOOL AND ECOSYSTEM\n"
   ]
  },
  {
   "cell_type": "markdown",
   "id": "a8945227-783c-468f-afee-f5a439aebb29",
   "metadata": {},
   "source": [
    "Some of the popular languages that Data Scientists use are:\n",
    "\n"
   ]
  },
  {
   "cell_type": "markdown",
   "id": "4a3937f9-627c-4abf-a67a-fc546ee7b3f6",
   "metadata": {},
   "source": [
    "In this notebook, Data Science Tools and Ecosystem are summarized."
   ]
  },
  {
   "cell_type": "markdown",
   "id": "87dcb7a8-eacd-42fb-a839-ca30f3ad332a",
   "metadata": {},
   "source": [
    "**Objectives:**\n",
    "- List popular languages for Data Science  \n",
    "- Identify common open-source tools used in Data Science  \n",
    "- Explain the role of data science libraries and frameworks  \n",
    "- Describe the main applications of Data Science  \n",
    "- Demonstrate basic operations in a development environment  \n"
   ]
  },
  {
   "cell_type": "markdown",
   "id": "3f1d7971-48d2-4b9a-a372-6a6e4cc2275a",
   "metadata": {},
   "source": [
    "Some of the popular languages that Data Scientists use are:\n",
    "1.PYTHON\n",
    "2.JAVA\n",
    "3.SQL\n",
    "4.JULIA\n",
    "5.SCALA"
   ]
  },
  {
   "cell_type": "markdown",
   "id": "1182ee4a-8ab0-4fa1-a02e-a07674779012",
   "metadata": {},
   "source": [
    "Some of the commonly used libraries used by Data Scientists include:\n",
    "1.Numpy\n",
    "2.Maltplotlib\n",
    "3.seaborn\n",
    "4.scikit-learn\n",
    "5.tensorflow\n",
    "6.pytorch"
   ]
  },
  {
   "cell_type": "markdown",
   "id": "e9b21520-64be-4258-ab90-69062b17a081",
   "metadata": {},
   "source": [
    "| Data Science Tools |\n",
    "|--------------------|\n",
    "| Jupyter Notebook  |\n",
    "| RStudio           |\n",
    "| Apache Zeppelin   |\n"
   ]
  },
  {
   "cell_type": "markdown",
   "id": "62e652fb-56aa-46e2-b9ed-fe7037305da3",
   "metadata": {},
   "source": [
    "Below are a few examples of evaluating arithmetic expressions in Python:\n",
    "\n"
   ]
  },
  {
   "cell_type": "code",
   "execution_count": 16,
   "id": "17626c8c-de56-49f3-a0bf-618e6b6aad1b",
   "metadata": {},
   "outputs": [
    {
     "name": "stdout",
     "output_type": "stream",
     "text": [
      "17\n"
     ]
    }
   ],
   "source": [
    "#This a simple arithmetic expression to mutiply then add integers\n",
    "print((3*4)+5)"
   ]
  },
  {
   "cell_type": "code",
   "execution_count": 18,
   "id": "cb6b67e4-012b-4289-830f-eec56a4324d7",
   "metadata": {},
   "outputs": [
    {
     "name": "stdout",
     "output_type": "stream",
     "text": [
      "3.3333333333333335\n"
     ]
    }
   ],
   "source": [
    "#This will convert 200 minutes to hours by diving by 60\n",
    "print(200/60)"
   ]
  },
  {
   "cell_type": "markdown",
   "id": "baa9d02f-89d3-499e-984a-22610e285456",
   "metadata": {},
   "source": [
    "## AUTHOR\n",
    "AMAN LINGWAL"
   ]
  },
  {
   "cell_type": "code",
   "execution_count": null,
   "id": "9c0d4231-0c40-4a9c-9c68-872429d53c87",
   "metadata": {},
   "outputs": [],
   "source": []
  }
 ],
 "metadata": {
  "kernelspec": {
   "display_name": "Python 3 (ipykernel)",
   "language": "python",
   "name": "python3"
  },
  "language_info": {
   "codemirror_mode": {
    "name": "ipython",
    "version": 3
   },
   "file_extension": ".py",
   "mimetype": "text/x-python",
   "name": "python",
   "nbconvert_exporter": "python",
   "pygments_lexer": "ipython3",
   "version": "3.11.7"
  }
 },
 "nbformat": 4,
 "nbformat_minor": 5
}
